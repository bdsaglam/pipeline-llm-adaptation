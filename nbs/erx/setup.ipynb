{
 "cells": [
  {
   "cell_type": "code",
   "execution_count": 15,
   "metadata": {},
   "outputs": [],
   "source": [
    "import itertools\n",
    "import json\n",
    "from pathlib import Path\n",
    "\n",
    "import pandas as pd"
   ]
  },
  {
   "cell_type": "code",
   "execution_count": 16,
   "metadata": {},
   "outputs": [],
   "source": [
    "def product_experiment_configs(params_record):\n",
    "    # Generate all possible combinations of parameters\n",
    "    keys = params_record.keys()\n",
    "    values = params_record.values()\n",
    "    for instance in itertools.product(*values):\n",
    "        yield dict(zip(keys, instance))"
   ]
  },
  {
   "cell_type": "code",
   "execution_count": 17,
   "metadata": {},
   "outputs": [],
   "source": [
    "exp_configs = []"
   ]
  },
  {
   "cell_type": "code",
   "execution_count": 18,
   "metadata": {},
   "outputs": [],
   "source": [
    "common_params = {\n",
    "    \"params.task\": [\"erx\"],\n",
    "    \"params.train.dataset.path\": [\"bdsaglam/web_nlg-erx-concat\"],\n",
    "    \"params.train.dataset.name\": [\"release_v3.0_en\"],\n",
    "    \"params.train.dataset.split\": ['\"train[:100]\"'],\n",
    "    \"params.evaluation.dataset.path\": [\"bdsaglam/web_nlg-erx-concat\"],\n",
    "    \"params.evaluation.dataset.name\": [\"release_v3.0_en\"],\n",
    "    \"params.evaluation.dataset.split\": ['\"dev\"'],\n",
    "    \"params.train.ensemble\": [\n",
    "        \"no\",\n",
    "        # \"yes\",\n",
    "    ],\n",
    "    \"params.lm.temperature\": [\n",
    "        0.0,\n",
    "        0.5,\n",
    "        # 0.7,\n",
    "    ],\n",
    "    \"params.run\": [\n",
    "        1,\n",
    "        # 2,\n",
    "        # 3,\n",
    "    ],\n",
    "}"
   ]
  },
  {
   "cell_type": "code",
   "execution_count": 19,
   "metadata": {},
   "outputs": [],
   "source": [
    "params_records = [\n",
    "    {\n",
    "        \"params.train.optimizer\": [\n",
    "            \"noop\",\n",
    "            \"bfsrs-medium\",\n",
    "            \"bfsrs-high\",\n",
    "            \"miprov2-light\",\n",
    "            \"miprov2-medium\",\n",
    "        ],\n",
    "        \"params.program.prompting\": [\"structured\"],\n",
    "        \"params.lm.model\": [\n",
    "            \"llama-3-8b\",\n",
    "            # \"qwen-2.5-32b\",\n",
    "        ],\n",
    "    },\n",
    "    # {\n",
    "    #     \"params.train.optimizer\": [\"noop\"],\n",
    "    #     \"params.program.prompting\": [\"sft\"],\n",
    "    #     \"params.lm.model\": [\n",
    "    #         \"llama-3-8b-sft\",\n",
    "    #     ],\n",
    "    # },\n",
    "]\n",
    "\n",
    "for params_record in params_records:\n",
    "    for exp_config in product_experiment_configs({**common_params, **params_record}):\n",
    "        exp_configs.append(exp_config)"
   ]
  },
  {
   "cell_type": "code",
   "execution_count": 20,
   "metadata": {},
   "outputs": [
    {
     "name": "stdout",
     "output_type": "stream",
     "text": [
      "10 experiment configurations\n"
     ]
    }
   ],
   "source": [
    "print(f\"{len(exp_configs)} experiment configurations\")"
   ]
  },
  {
   "cell_type": "code",
   "execution_count": 21,
   "metadata": {},
   "outputs": [
    {
     "data": {
      "text/plain": [
       "dict_keys(['params.task', 'params.train.dataset.path', 'params.train.dataset.name', 'params.train.dataset.split', 'params.evaluation.dataset.path', 'params.evaluation.dataset.name', 'params.evaluation.dataset.split', 'params.train.ensemble', 'params.lm.temperature', 'params.run', 'params.train.optimizer', 'params.program.prompting', 'params.lm.model'])"
      ]
     },
     "execution_count": 21,
     "metadata": {},
     "output_type": "execute_result"
    }
   ],
   "source": [
    "target_params = exp_configs[0].keys()\n",
    "target_params"
   ]
  },
  {
   "cell_type": "code",
   "execution_count": 22,
   "metadata": {},
   "outputs": [
    {
     "name": "stdout",
     "output_type": "stream",
     "text": [
      "19 experiments\n"
     ]
    },
    {
     "data": {
      "text/plain": [
       "{'id': 'workspace',\n",
       " 'name': None,\n",
       " 'params.task': 'erx',\n",
       " 'params.train.dataset.path': 'bdsaglam/web_nlg-erx-concat',\n",
       " 'params.train.dataset.name': 'release_v3.0_en',\n",
       " 'params.train.dataset.split': 'train[:100]',\n",
       " 'params.train.optimizer': 'noop',\n",
       " 'params.train.ensemble': 'no',\n",
       " 'params.evaluation.dataset.path': 'bdsaglam/web_nlg-erx-concat',\n",
       " 'params.evaluation.dataset.name': 'release_v3.0_en',\n",
       " 'params.evaluation.dataset.split': 'dev[:1000]',\n",
       " 'params.program.prompting': 'structured',\n",
       " 'params.lm.model': 'llama-3-8b',\n",
       " 'params.lm.temperature': 0.0,\n",
       " 'params.run': 1,\n",
       " 'metrics.exact.precision': 0.0145859688,\n",
       " 'metrics.exact.recall': 0.0134111069,\n",
       " 'metrics.exact.f1': 0.0138939681,\n",
       " 'metrics.fuzzy.precision': 0.2980273675,\n",
       " 'metrics.fuzzy.recall': 0.2736804603,\n",
       " 'metrics.fuzzy.f1': 0.2820348332}"
      ]
     },
     "execution_count": 22,
     "metadata": {},
     "output_type": "execute_result"
    }
   ],
   "source": [
    "results_path = Path(\"exps.jsonl\")\n",
    "if results_path.exists():\n",
    "    with open(results_path) as f:\n",
    "        experiments = [json.loads(line) for line in f]\n",
    "else:\n",
    "    experiments = []\n",
    "\n",
    "print(f\"{len(experiments)} experiments\")\n",
    "next(iter(experiments), None)"
   ]
  },
  {
   "cell_type": "code",
   "execution_count": 23,
   "metadata": {},
   "outputs": [
    {
     "name": "stdout",
     "output_type": "stream",
     "text": [
      "19 experiments after preprocessing\n"
     ]
    }
   ],
   "source": [
    "df = pd.DataFrame(experiments)\n",
    "\n",
    "param_cols = [col for col in df.columns if col.startswith(\"params.\")]\n",
    "metric_cols = [col for col in df.columns if col.startswith(\"metrics.\")]\n",
    "\n",
    "df.dropna(subset=param_cols, inplace=True, how=\"any\")\n",
    "df.drop_duplicates(subset=param_cols, inplace=True)\n",
    "\n",
    "print(f\"{len(df)} experiments after preprocessing\")"
   ]
  },
  {
   "cell_type": "code",
   "execution_count": 24,
   "metadata": {},
   "outputs": [],
   "source": [
    "if len(df):\n",
    "    existing_configs = df[target_params].to_dict(orient=\"records\")\n",
    "    existing_configs[0]\n",
    "else:\n",
    "    existing_configs = []"
   ]
  },
  {
   "cell_type": "code",
   "execution_count": 25,
   "metadata": {},
   "outputs": [
    {
     "data": {
      "text/plain": [
       "['params.task',\n",
       " 'params.train.dataset.path',\n",
       " 'params.train.dataset.name',\n",
       " 'params.train.dataset.split',\n",
       " 'params.evaluation.dataset.path',\n",
       " 'params.evaluation.dataset.name',\n",
       " 'params.evaluation.dataset.split',\n",
       " 'params.train.ensemble',\n",
       " 'params.lm.temperature',\n",
       " 'params.run',\n",
       " 'params.train.optimizer',\n",
       " 'params.program.prompting',\n",
       " 'params.lm.model']"
      ]
     },
     "execution_count": 25,
     "metadata": {},
     "output_type": "execute_result"
    }
   ],
   "source": [
    "target_params = list(exp_configs[0].keys())\n",
    "target_params"
   ]
  },
  {
   "cell_type": "code",
   "execution_count": 26,
   "metadata": {},
   "outputs": [
    {
     "name": "stdout",
     "output_type": "stream",
     "text": [
      "10 missing configurations\n"
     ]
    },
    {
     "data": {
      "text/plain": [
       "{'params.evaluation.dataset.name': 'release_v3.0_en',\n",
       " 'params.evaluation.dataset.path': 'bdsaglam/web_nlg-erx-concat',\n",
       " 'params.evaluation.dataset.split': '\"dev\"',\n",
       " 'params.lm.model': 'llama-3-8b',\n",
       " 'params.lm.temperature': 0.5,\n",
       " 'params.program.prompting': 'structured',\n",
       " 'params.run': 1,\n",
       " 'params.task': 'erx',\n",
       " 'params.train.dataset.name': 'release_v3.0_en',\n",
       " 'params.train.dataset.path': 'bdsaglam/web_nlg-erx-concat',\n",
       " 'params.train.dataset.split': '\"train[:100]\"',\n",
       " 'params.train.ensemble': 'no',\n",
       " 'params.train.optimizer': 'bfsrs-high'}"
      ]
     },
     "execution_count": 26,
     "metadata": {},
     "output_type": "execute_result"
    }
   ],
   "source": [
    "# find the missing configurations\n",
    "missing_configs = [\n",
    "    dict(kv)\n",
    "    for kv in list(\n",
    "        {tuple(sorted(config.items())) for config in exp_configs}\n",
    "        - {tuple(sorted(config.items())) for config in existing_configs}\n",
    "    )\n",
    "]\n",
    "print(f\"{len(missing_configs)} missing configurations\")\n",
    "next(iter(missing_configs), None)\n"
   ]
  },
  {
   "cell_type": "code",
   "execution_count": 27,
   "metadata": {},
   "outputs": [],
   "source": [
    "def make_command(exp_config):\n",
    "    lines = [\"dvc exp run --queue\"]\n",
    "    for target_param in target_params:\n",
    "        arg_name = target_param.split(\".\", 1)[-1]\n",
    "        arg_value = exp_config[target_param]\n",
    "        lines.append(f\"-S {arg_name}='{arg_value}'\")\n",
    "\n",
    "    command = \" \\\\\\n    \".join(lines)\n",
    "    return command"
   ]
  },
  {
   "cell_type": "code",
   "execution_count": 28,
   "metadata": {},
   "outputs": [],
   "source": [
    "with open(\"run.sh\", \"w\") as f:\n",
    "    f.write(\"#!/bin/sh\\n\\n\")\n",
    "    for exp_config in missing_configs:\n",
    "        f.write(make_command(exp_config))\n",
    "        f.write(\"\\n\\n\")"
   ]
  },
  {
   "cell_type": "code",
   "execution_count": null,
   "metadata": {},
   "outputs": [],
   "source": []
  }
 ],
 "metadata": {
  "kernelspec": {
   "display_name": "thesis",
   "language": "python",
   "name": "python3"
  },
  "language_info": {
   "codemirror_mode": {
    "name": "ipython",
    "version": 3
   },
   "file_extension": ".py",
   "mimetype": "text/x-python",
   "name": "python",
   "nbconvert_exporter": "python",
   "pygments_lexer": "ipython3",
   "version": "3.10.16"
  }
 },
 "nbformat": 4,
 "nbformat_minor": 2
}
