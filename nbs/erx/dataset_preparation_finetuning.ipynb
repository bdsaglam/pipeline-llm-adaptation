{
 "cells": [
  {
   "cell_type": "code",
   "execution_count": 6,
   "metadata": {},
   "outputs": [
    {
     "data": {
      "text/plain": [
       "True"
      ]
     },
     "execution_count": 6,
     "metadata": {},
     "output_type": "execute_result"
    }
   ],
   "source": [
    "from dotenv import load_dotenv\n",
    "\n",
    "load_dotenv()"
   ]
  },
  {
   "cell_type": "code",
   "execution_count": 7,
   "metadata": {},
   "outputs": [],
   "source": [
    "from datasets import Dataset, DatasetDict, load_dataset"
   ]
  },
  {
   "cell_type": "code",
   "execution_count": 8,
   "metadata": {},
   "outputs": [],
   "source": [
    "import random\n",
    "\n",
    "import numpy as np\n",
    "\n",
    "\n",
    "def set_seed(seed):\n",
    "    np.random.seed(seed % (2**32 - 1))\n",
    "    random.seed(seed)\n",
    "\n",
    "SEED = 89\n",
    "set_seed(SEED)"
   ]
  },
  {
   "cell_type": "code",
   "execution_count": 11,
   "metadata": {},
   "outputs": [],
   "source": [
    "hf_username = 'bdsaglam'"
   ]
  },
  {
   "cell_type": "code",
   "execution_count": 13,
   "metadata": {},
   "outputs": [],
   "source": [
    "dataset_path = f\"{hf_username}/web_nlg-erx-concat\"\n",
    "dataset_name = \"release_v3.0_en\"\n",
    "dsd = load_dataset(dataset_path, dataset_name, trust_remote_code=True)"
   ]
  },
  {
   "cell_type": "code",
   "execution_count": 14,
   "metadata": {},
   "outputs": [
    {
     "data": {
      "text/plain": [
       "{'eid': 'Id62',\n",
       " 'text': 'Adonis Georgiadis is a member of the Greek New Democracy Party which uses the colour blue. Before being succeeded by Makis Voridis he served in office while Antonis Samaras was Prime Minister and Evangelos Venizelos was Deputy.',\n",
       " 'triples': ['Adonis Georgiadis | in office while prime minister | Antonis Samaras',\n",
       "  'Antonis Samaras | has deputy | Evangelos Venizelos',\n",
       "  'New Democracy (Greece) | colour | Blue',\n",
       "  'Adonis Georgiadis | party | New Democracy (Greece)',\n",
       "  'Adonis Georgiadis | successor | Makis Voridis']}"
      ]
     },
     "execution_count": 14,
     "metadata": {},
     "output_type": "execute_result"
    }
   ],
   "source": [
    "dsd['train'][0]"
   ]
  },
  {
   "cell_type": "code",
   "execution_count": 15,
   "metadata": {},
   "outputs": [],
   "source": [
    "def make_openai_chat(example):\n",
    "    triples_str = \"\\n\".join(example[\"triples\"])\n",
    "    return {\n",
    "        \"messages\": [\n",
    "            {\"role\": \"user\", \"content\": example[\"text\"]},\n",
    "            {\"role\": \"assistant\", \"content\": triples_str},\n",
    "        ],\n",
    "    }"
   ]
  },
  {
   "cell_type": "code",
   "execution_count": 17,
   "metadata": {},
   "outputs": [
    {
     "data": {
      "text/plain": [
       "{'messages': [{'role': 'user',\n",
       "   'content': 'Adonis Georgiadis is a member of the Greek New Democracy Party which uses the colour blue. Before being succeeded by Makis Voridis he served in office while Antonis Samaras was Prime Minister and Evangelos Venizelos was Deputy.'},\n",
       "  {'role': 'assistant',\n",
       "   'content': 'Adonis Georgiadis | in office while prime minister | Antonis Samaras\\nAntonis Samaras | has deputy | Evangelos Venizelos\\nNew Democracy (Greece) | colour | Blue\\nAdonis Georgiadis | party | New Democracy (Greece)\\nAdonis Georgiadis | successor | Makis Voridis'}]}"
      ]
     },
     "execution_count": 17,
     "metadata": {},
     "output_type": "execute_result"
    }
   ],
   "source": [
    "make_openai_chat(dsd['train'][0])"
   ]
  },
  {
   "cell_type": "code",
   "execution_count": 20,
   "metadata": {},
   "outputs": [
    {
     "data": {
      "application/vnd.jupyter.widget-view+json": {
       "model_id": "facdd0ca6a5c4de18dfb5c8ec718d0b8",
       "version_major": 2,
       "version_minor": 0
      },
      "text/plain": [
       "Map:   0%|          | 0/8871 [00:00<?, ? examples/s]"
      ]
     },
     "metadata": {},
     "output_type": "display_data"
    },
    {
     "data": {
      "application/vnd.jupyter.widget-view+json": {
       "model_id": "da8df7c74e744e96853a290ccb1fa4b0",
       "version_major": 2,
       "version_minor": 0
      },
      "text/plain": [
       "Map:   0%|          | 0/1116 [00:00<?, ? examples/s]"
      ]
     },
     "metadata": {},
     "output_type": "display_data"
    },
    {
     "data": {
      "application/vnd.jupyter.widget-view+json": {
       "model_id": "b96a1cabb6e9448aa2c5ac483a5fc370",
       "version_major": 2,
       "version_minor": 0
      },
      "text/plain": [
       "Map:   0%|          | 0/1834 [00:00<?, ? examples/s]"
      ]
     },
     "metadata": {},
     "output_type": "display_data"
    }
   ],
   "source": [
    "chat_dsd = dsd.map(make_openai_chat, remove_columns=['text', 'triples'])"
   ]
  },
  {
   "cell_type": "code",
   "execution_count": 22,
   "metadata": {},
   "outputs": [
    {
     "data": {
      "text/plain": [
       "{'eid': 'Id62',\n",
       " 'messages': [{'content': 'Adonis Georgiadis is a member of the Greek New Democracy Party which uses the colour blue. Before being succeeded by Makis Voridis he served in office while Antonis Samaras was Prime Minister and Evangelos Venizelos was Deputy.',\n",
       "   'role': 'user'},\n",
       "  {'content': 'Adonis Georgiadis | in office while prime minister | Antonis Samaras\\nAntonis Samaras | has deputy | Evangelos Venizelos\\nNew Democracy (Greece) | colour | Blue\\nAdonis Georgiadis | party | New Democracy (Greece)\\nAdonis Georgiadis | successor | Makis Voridis',\n",
       "   'role': 'assistant'}]}"
      ]
     },
     "execution_count": 22,
     "metadata": {},
     "output_type": "execute_result"
    }
   ],
   "source": [
    "assert 'eid' in chat_dsd['train'].features\n",
    "assert 'messages' in chat_dsd['train'].features\n",
    "chat_dsd['train'][0]"
   ]
  },
  {
   "cell_type": "code",
   "execution_count": 23,
   "metadata": {},
   "outputs": [
    {
     "data": {
      "application/vnd.jupyter.widget-view+json": {
       "model_id": "c3874afdfae84d75be80bbcf9d05477b",
       "version_major": 2,
       "version_minor": 0
      },
      "text/plain": [
       "Uploading the dataset shards:   0%|          | 0/1 [00:00<?, ?it/s]"
      ]
     },
     "metadata": {},
     "output_type": "display_data"
    },
    {
     "data": {
      "application/vnd.jupyter.widget-view+json": {
       "model_id": "f4d2ea7069bd42fc8d5fc67f40b8d8bb",
       "version_major": 2,
       "version_minor": 0
      },
      "text/plain": [
       "Creating parquet from Arrow format:   0%|          | 0/9 [00:00<?, ?ba/s]"
      ]
     },
     "metadata": {},
     "output_type": "display_data"
    },
    {
     "data": {
      "application/vnd.jupyter.widget-view+json": {
       "model_id": "24eb616f739e4cadb8d826a8d7b6ee96",
       "version_major": 2,
       "version_minor": 0
      },
      "text/plain": [
       "Uploading the dataset shards:   0%|          | 0/1 [00:00<?, ?it/s]"
      ]
     },
     "metadata": {},
     "output_type": "display_data"
    },
    {
     "data": {
      "application/vnd.jupyter.widget-view+json": {
       "model_id": "eab9c43efa08441c939680319c2426a1",
       "version_major": 2,
       "version_minor": 0
      },
      "text/plain": [
       "Creating parquet from Arrow format:   0%|          | 0/2 [00:00<?, ?ba/s]"
      ]
     },
     "metadata": {},
     "output_type": "display_data"
    },
    {
     "data": {
      "application/vnd.jupyter.widget-view+json": {
       "model_id": "3dc95eeb9dcd474f9ad8204234bf4bc7",
       "version_major": 2,
       "version_minor": 0
      },
      "text/plain": [
       "Uploading the dataset shards:   0%|          | 0/1 [00:00<?, ?it/s]"
      ]
     },
     "metadata": {},
     "output_type": "display_data"
    },
    {
     "data": {
      "application/vnd.jupyter.widget-view+json": {
       "model_id": "acf56f39c1d841cdbee348b65ee36651",
       "version_major": 2,
       "version_minor": 0
      },
      "text/plain": [
       "Creating parquet from Arrow format:   0%|          | 0/2 [00:00<?, ?ba/s]"
      ]
     },
     "metadata": {},
     "output_type": "display_data"
    },
    {
     "data": {
      "text/plain": [
       "CommitInfo(commit_url='https://huggingface.co/datasets/bdsaglam/web_nlg-erx-concat-chat/commit/59ac6e05c711389f4e3293157fc8a10c84585db5', commit_message='Upload dataset', commit_description='', oid='59ac6e05c711389f4e3293157fc8a10c84585db5', pr_url=None, repo_url=RepoUrl('https://huggingface.co/datasets/bdsaglam/web_nlg-erx-concat-chat', endpoint='https://huggingface.co', repo_type='dataset', repo_id='bdsaglam/web_nlg-erx-concat-chat'), pr_revision=None, pr_num=None)"
      ]
     },
     "execution_count": 23,
     "metadata": {},
     "output_type": "execute_result"
    }
   ],
   "source": [
    "new_dataset_path = f\"{hf_username}/{dataset_path.split('/', 1)[-1]}-chat\"\n",
    "chat_dsd.push_to_hub(new_dataset_path, config_name=dataset_name)"
   ]
  },
  {
   "cell_type": "code",
   "execution_count": null,
   "metadata": {},
   "outputs": [],
   "source": []
  }
 ],
 "metadata": {
  "language_info": {
   "name": "python"
  }
 },
 "nbformat": 4,
 "nbformat_minor": 2
}
