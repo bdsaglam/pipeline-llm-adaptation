{
 "cells": [
  {
   "cell_type": "code",
   "execution_count": 1,
   "metadata": {},
   "outputs": [
    {
     "data": {
      "text/plain": [
       "True"
      ]
     },
     "execution_count": 1,
     "metadata": {},
     "output_type": "execute_result"
    }
   ],
   "source": [
    "from dotenv import load_dotenv\n",
    "\n",
    "load_dotenv()"
   ]
  },
  {
   "cell_type": "code",
   "execution_count": 2,
   "metadata": {},
   "outputs": [],
   "source": [
    "from datasets import Dataset, DatasetDict, load_dataset"
   ]
  },
  {
   "cell_type": "code",
   "execution_count": 3,
   "metadata": {},
   "outputs": [],
   "source": [
    "import re\n",
    "\n",
    "\n",
    "def split_camel_case(input_str):\n",
    "    # Use regular expression to find word boundaries in camel case\n",
    "    matches = re.finditer('.+?(?:(?<=[a-z])(?=[A-Z])|(?<=[A-Z])(?=[A-Z][a-z])|$)', input_str)\n",
    "    # Extract the words and return as a list\n",
    "    return [m.group(0) for m in matches]"
   ]
  },
  {
   "cell_type": "code",
   "execution_count": 4,
   "metadata": {},
   "outputs": [],
   "source": [
    "import random\n",
    "\n",
    "import numpy as np\n",
    "\n",
    "\n",
    "def set_seed(seed):\n",
    "    np.random.seed(seed % (2**32 - 1))\n",
    "    random.seed(seed)\n",
    "\n",
    "SEED = 89\n",
    "set_seed(SEED)"
   ]
  },
  {
   "cell_type": "code",
   "execution_count": 5,
   "metadata": {},
   "outputs": [],
   "source": [
    "def _transform_relation(relation: str):\n",
    "    return \" \".join([word.lower() for word in split_camel_case(relation)]).strip()\n",
    "\n",
    "\n",
    "def _transform_entity(entity: str):\n",
    "    return entity.replace(\"_\", \" \").strip()\n",
    "\n",
    "\n",
    "def _transform_triple(triple_string: str):\n",
    "    delimiter = \" | \"\n",
    "    triple_string = triple_string.replace('\"', \"\").replace(\"''\", \"\")\n",
    "    subject, relation, obj = triple_string.split(delimiter)\n",
    "    relation = _transform_relation(relation)\n",
    "    subject = _transform_entity(subject)\n",
    "    obj = _transform_entity(obj)\n",
    "    return delimiter.join([subject, relation, obj])\n",
    "\n",
    "\n",
    "\n",
    "def _batch_transform(examples):\n",
    "    for eid, lex, mts in zip(examples[\"eid\"], examples[\"lex\"], examples[\"modified_triple_sets\"]):\n",
    "        for text in lex[\"text\"]:\n",
    "            triples = [_transform_triple(triplet_string) for triplet_string in mts[\"mtriple_set\"][0]]\n",
    "            yield dict(eid=eid, text=text, triples=triples)\n",
    "\n",
    "\n",
    "def batch_transform(examples):\n",
    "    records = list(_batch_transform(examples))\n",
    "    return {\n",
    "        \"eid\": [record[\"eid\"] for record in records],\n",
    "        \"text\": [record[\"text\"] for record in records],\n",
    "        \"triples\": [record[\"triples\"] for record in records],\n",
    "    }"
   ]
  },
  {
   "cell_type": "code",
   "execution_count": 6,
   "metadata": {},
   "outputs": [],
   "source": [
    "hf_username = 'bdsaglam'"
   ]
  },
  {
   "cell_type": "code",
   "execution_count": 7,
   "metadata": {},
   "outputs": [],
   "source": [
    "\n",
    "dataset_path = \"web_nlg\"\n",
    "dataset_name = \"release_v3.0_en\"\n",
    "dsd = load_dataset(dataset_path, dataset_name, trust_remote_code=True)"
   ]
  },
  {
   "cell_type": "code",
   "execution_count": 8,
   "metadata": {},
   "outputs": [
    {
     "data": {
      "text/plain": [
       "{'category': 'Airport',\n",
       " 'size': 1,\n",
       " 'eid': 'Id1',\n",
       " 'original_triple_sets': {'otriple_set': [['Aarhus_Airport | cityServed | \"Aarhus, Denmark\"@en']]},\n",
       " 'modified_triple_sets': {'mtriple_set': [['Aarhus_Airport | cityServed | \"Aarhus, Denmark\"']]},\n",
       " 'shape': '(X (X))',\n",
       " 'shape_type': 'NA',\n",
       " 'lex': {'comment': ['good', 'good'],\n",
       "  'lid': ['Id1', 'Id2'],\n",
       "  'text': ['The Aarhus is the airport of Aarhus, Denmark.',\n",
       "   'Aarhus Airport serves the city of Aarhus, Denmark.'],\n",
       "  'lang': ['', '']},\n",
       " 'test_category': '',\n",
       " 'dbpedia_links': [],\n",
       " 'links': []}"
      ]
     },
     "execution_count": 8,
     "metadata": {},
     "output_type": "execute_result"
    }
   ],
   "source": [
    "dsd['train'][0]"
   ]
  },
  {
   "cell_type": "code",
   "execution_count": 9,
   "metadata": {},
   "outputs": [
    {
     "data": {
      "text/plain": [
       "{'category': 'Airport',\n",
       " 'size': 1,\n",
       " 'eid': 'Id26',\n",
       " 'original_triple_sets': {'otriple_set': [['Adirondack_Regional_Airport | r1LengthF | 6573']]},\n",
       " 'modified_triple_sets': {'mtriple_set': [['Adirondack_Regional_Airport | 1stRunwayLengthFeet | 6573']]},\n",
       " 'shape': '(X (X))',\n",
       " 'shape_type': 'NA',\n",
       " 'lex': {'comment': ['good', 'good', 'good'],\n",
       "  'lid': ['Id1', 'Id2', 'Id3'],\n",
       "  'text': ['The length of the first runway at Adirondack Regional Airport is 6,573 feet.',\n",
       "   '6573 feet is the length of the first runway at Adirondack Regional Airport.',\n",
       "   'The 1st runway length in feet of Adirondack Regional Airport is 6573.'],\n",
       "  'lang': ['', '', '']},\n",
       " 'test_category': '',\n",
       " 'dbpedia_links': [],\n",
       " 'links': []}"
      ]
     },
     "execution_count": 9,
     "metadata": {},
     "output_type": "execute_result"
    }
   ],
   "source": [
    "dsd['train'][25]"
   ]
  },
  {
   "cell_type": "code",
   "execution_count": 10,
   "metadata": {},
   "outputs": [],
   "source": [
    "from datasets import load_dataset\n",
    "\n",
    "dsd = load_dataset(\"web_nlg\", \"release_v3.0_en\", trust_remote_code=True)\n",
    "erx_dsd = dsd.map(batch_transform, batched=True, remove_columns=dsd['train'].column_names)"
   ]
  },
  {
   "cell_type": "code",
   "execution_count": 11,
   "metadata": {},
   "outputs": [
    {
     "data": {
      "text/plain": [
       "{'category': 'Airport',\n",
       " 'size': 1,\n",
       " 'eid': 'Id1',\n",
       " 'original_triple_sets': {'otriple_set': [['Aarhus_Airport | cityServed | \"Aarhus, Denmark\"@en']]},\n",
       " 'modified_triple_sets': {'mtriple_set': [['Aarhus_Airport | cityServed | \"Aarhus, Denmark\"']]},\n",
       " 'shape': '(X (X))',\n",
       " 'shape_type': 'NA',\n",
       " 'lex': {'comment': ['good', 'good'],\n",
       "  'lid': ['Id1', 'Id2'],\n",
       "  'text': ['The Aarhus is the airport of Aarhus, Denmark.',\n",
       "   'Aarhus Airport serves the city of Aarhus, Denmark.'],\n",
       "  'lang': ['', '']},\n",
       " 'test_category': '',\n",
       " 'dbpedia_links': [],\n",
       " 'links': []}"
      ]
     },
     "execution_count": 11,
     "metadata": {},
     "output_type": "execute_result"
    }
   ],
   "source": [
    "dsd['train'][0]"
   ]
  },
  {
   "cell_type": "code",
   "execution_count": 12,
   "metadata": {},
   "outputs": [
    {
     "data": {
      "text/plain": [
       "{'eid': 'Id1',\n",
       " 'text': 'The Aarhus is the airport of Aarhus, Denmark.',\n",
       " 'triples': ['Aarhus Airport | city served | Aarhus, Denmark']}"
      ]
     },
     "execution_count": 12,
     "metadata": {},
     "output_type": "execute_result"
    }
   ],
   "source": [
    "erx_dsd['train'][0]"
   ]
  },
  {
   "cell_type": "code",
   "execution_count": 13,
   "metadata": {},
   "outputs": [],
   "source": [
    "assert 'eid' in erx_dsd['train'].features\n",
    "assert 'text' in erx_dsd['train'].features\n",
    "assert 'triples' in erx_dsd['train'].features\n",
    "assert isinstance(erx_dsd['train'][0]['triples'], list)\n",
    "assert isinstance(erx_dsd['train'][0]['triples'][0], str)"
   ]
  },
  {
   "cell_type": "code",
   "execution_count": 14,
   "metadata": {},
   "outputs": [
    {
     "data": {
      "application/vnd.jupyter.widget-view+json": {
       "model_id": "8f56d2c22fab4a3f9fd3a5adf30f6a71",
       "version_major": 2,
       "version_minor": 0
      },
      "text/plain": [
       "Uploading the dataset shards:   0%|          | 0/1 [00:00<?, ?it/s]"
      ]
     },
     "metadata": {},
     "output_type": "display_data"
    },
    {
     "data": {
      "application/vnd.jupyter.widget-view+json": {
       "model_id": "8c476e3f28ea498dbf2b7f51cee6fb20",
       "version_major": 2,
       "version_minor": 0
      },
      "text/plain": [
       "Creating parquet from Arrow format:   0%|          | 0/36 [00:00<?, ?ba/s]"
      ]
     },
     "metadata": {},
     "output_type": "display_data"
    },
    {
     "data": {
      "application/vnd.jupyter.widget-view+json": {
       "model_id": "36604cd77e5a4af484ca470ab328d50b",
       "version_major": 2,
       "version_minor": 0
      },
      "text/plain": [
       "Uploading the dataset shards:   0%|          | 0/1 [00:00<?, ?it/s]"
      ]
     },
     "metadata": {},
     "output_type": "display_data"
    },
    {
     "data": {
      "application/vnd.jupyter.widget-view+json": {
       "model_id": "a632e1df678e4c8da0647f0bd40f2b2f",
       "version_major": 2,
       "version_minor": 0
      },
      "text/plain": [
       "Creating parquet from Arrow format:   0%|          | 0/5 [00:00<?, ?ba/s]"
      ]
     },
     "metadata": {},
     "output_type": "display_data"
    },
    {
     "data": {
      "application/vnd.jupyter.widget-view+json": {
       "model_id": "26eafc8d57d449edaf343c85f1a77aff",
       "version_major": 2,
       "version_minor": 0
      },
      "text/plain": [
       "Uploading the dataset shards:   0%|          | 0/1 [00:00<?, ?it/s]"
      ]
     },
     "metadata": {},
     "output_type": "display_data"
    },
    {
     "data": {
      "application/vnd.jupyter.widget-view+json": {
       "model_id": "a2aed98417074f7493879e57ed6cc617",
       "version_major": 2,
       "version_minor": 0
      },
      "text/plain": [
       "Creating parquet from Arrow format:   0%|          | 0/8 [00:00<?, ?ba/s]"
      ]
     },
     "metadata": {},
     "output_type": "display_data"
    },
    {
     "name": "stderr",
     "output_type": "stream",
     "text": [
      "No files have been modified since last commit. Skipping to prevent empty commit.\n"
     ]
    },
    {
     "data": {
      "text/plain": [
       "CommitInfo(commit_url='https://huggingface.co/datasets/bdsaglam/web_nlg-erx/commit/d1ceceebd5b37932882e860431e6a2481f2a9f12', commit_message='Upload dataset', commit_description='', oid='d1ceceebd5b37932882e860431e6a2481f2a9f12', pr_url=None, repo_url=RepoUrl('https://huggingface.co/datasets/bdsaglam/web_nlg-erx', endpoint='https://huggingface.co', repo_type='dataset', repo_id='bdsaglam/web_nlg-erx'), pr_revision=None, pr_num=None)"
      ]
     },
     "execution_count": 14,
     "metadata": {},
     "output_type": "execute_result"
    }
   ],
   "source": [
    "new_dataset_path = f\"{hf_username}/{dataset_path.split('/', 1)[-1]}-erx\"\n",
    "erx_dsd.push_to_hub(new_dataset_path, config_name=dataset_name)"
   ]
  },
  {
   "cell_type": "code",
   "execution_count": 15,
   "metadata": {},
   "outputs": [],
   "source": [
    "#|export\n",
    "\n",
    "import random\n",
    "from typing import Generator, TypeVar\n",
    "\n",
    "T = TypeVar(\"T\")\n",
    "\n",
    "\n",
    "def chunk_random(lst: list[T], min_chunk: int = 2, max_chunk: int = 4) -> Generator[list[T], None, None]:\n",
    "    \"\"\"\n",
    "    Splits a list into random-sized chunks.\n",
    "\n",
    "    Args:\n",
    "        lst (list): The list to be split into chunks.\n",
    "        min_chunk (int, optional): The minimum size of each chunk. Defaults to 2.\n",
    "        max_chunk (int, optional): The maximum size of each chunk. Defaults to 4.\n",
    "\n",
    "    Yields:\n",
    "        list: A chunk of the original list.\n",
    "\n",
    "    Returns:\n",
    "        list: A list of chunks.\n",
    "\n",
    "    \"\"\"\n",
    "    # Ensure the list has at least the minimum number of elements required for a chunk\n",
    "    if len(lst) < min_chunk:\n",
    "        yield lst\n",
    "        return\n",
    "\n",
    "    i = 0  # Initialize an index to traverse the list\n",
    "    while i < len(lst):\n",
    "        if len(lst) - i < min_chunk:\n",
    "            break\n",
    "        # Determine the size of the next chunk\n",
    "        chunk_size = random.randint(min_chunk, min(max_chunk, len(lst) - i))\n",
    "        # Add the chunk to the list of chunks\n",
    "        yield lst[i : i + chunk_size]\n",
    "        # Increment the index by the size of the chunk just added\n",
    "        i += chunk_size\n",
    "\n",
    "def chunk_random_dataset(ds, min_chunk=1, max_chunk=3):\n",
    "    for indices in chunk_random(range(len(ds)), min_chunk, max_chunk):\n",
    "        yield ds.select(indices).to_list()\n"
   ]
  },
  {
   "cell_type": "code",
   "execution_count": 16,
   "metadata": {},
   "outputs": [
    {
     "data": {
      "application/vnd.jupyter.widget-view+json": {
       "model_id": "df0750262f374e59b4760404e471cbd9",
       "version_major": 2,
       "version_minor": 0
      },
      "text/plain": [
       "Map:   0%|          | 0/8871 [00:00<?, ? examples/s]"
      ]
     },
     "metadata": {},
     "output_type": "display_data"
    },
    {
     "data": {
      "application/vnd.jupyter.widget-view+json": {
       "model_id": "3b80b9a315cf4b60b741d2228fdce799",
       "version_major": 2,
       "version_minor": 0
      },
      "text/plain": [
       "Map:   0%|          | 0/1116 [00:00<?, ? examples/s]"
      ]
     },
     "metadata": {},
     "output_type": "display_data"
    },
    {
     "data": {
      "application/vnd.jupyter.widget-view+json": {
       "model_id": "d1d5c2e27ab645d3ae296d39e8a4bc4a",
       "version_major": 2,
       "version_minor": 0
      },
      "text/plain": [
       "Map:   0%|          | 0/1834 [00:00<?, ? examples/s]"
      ]
     },
     "metadata": {},
     "output_type": "display_data"
    },
    {
     "data": {
      "application/vnd.jupyter.widget-view+json": {
       "model_id": "47ec140ba2db42668c551d43e0ca9625",
       "version_major": 2,
       "version_minor": 0
      },
      "text/plain": [
       "Uploading the dataset shards:   0%|          | 0/1 [00:00<?, ?it/s]"
      ]
     },
     "metadata": {},
     "output_type": "display_data"
    },
    {
     "data": {
      "application/vnd.jupyter.widget-view+json": {
       "model_id": "839181e7d9a24b7c969fc2f0414e2e2a",
       "version_major": 2,
       "version_minor": 0
      },
      "text/plain": [
       "Creating parquet from Arrow format:   0%|          | 0/9 [00:00<?, ?ba/s]"
      ]
     },
     "metadata": {},
     "output_type": "display_data"
    },
    {
     "data": {
      "application/vnd.jupyter.widget-view+json": {
       "model_id": "1d81ff45af024248bd2b87cf936288b5",
       "version_major": 2,
       "version_minor": 0
      },
      "text/plain": [
       "Uploading the dataset shards:   0%|          | 0/1 [00:00<?, ?it/s]"
      ]
     },
     "metadata": {},
     "output_type": "display_data"
    },
    {
     "data": {
      "application/vnd.jupyter.widget-view+json": {
       "model_id": "2e68eeaa4719469bb376c14d03fd8f9d",
       "version_major": 2,
       "version_minor": 0
      },
      "text/plain": [
       "Creating parquet from Arrow format:   0%|          | 0/2 [00:00<?, ?ba/s]"
      ]
     },
     "metadata": {},
     "output_type": "display_data"
    },
    {
     "data": {
      "application/vnd.jupyter.widget-view+json": {
       "model_id": "bda5824fdb284ef2a9ddf5cb4329dcec",
       "version_major": 2,
       "version_minor": 0
      },
      "text/plain": [
       "Uploading the dataset shards:   0%|          | 0/1 [00:00<?, ?it/s]"
      ]
     },
     "metadata": {},
     "output_type": "display_data"
    },
    {
     "data": {
      "application/vnd.jupyter.widget-view+json": {
       "model_id": "98e1eeef52ba4a3f8feade0ebe65b7a6",
       "version_major": 2,
       "version_minor": 0
      },
      "text/plain": [
       "Creating parquet from Arrow format:   0%|          | 0/2 [00:00<?, ?ba/s]"
      ]
     },
     "metadata": {},
     "output_type": "display_data"
    },
    {
     "data": {
      "text/plain": [
       "CommitInfo(commit_url='https://huggingface.co/datasets/bdsaglam/web_nlg-erx-concat/commit/e7aa67f483ea11914bcbd033cd51f2033261ba94', commit_message='Upload dataset', commit_description='', oid='e7aa67f483ea11914bcbd033cd51f2033261ba94', pr_url=None, repo_url=RepoUrl('https://huggingface.co/datasets/bdsaglam/web_nlg-erx-concat', endpoint='https://huggingface.co', repo_type='dataset', repo_id='bdsaglam/web_nlg-erx-concat'), pr_revision=None, pr_num=None)"
      ]
     },
     "execution_count": 16,
     "metadata": {},
     "output_type": "execute_result"
    }
   ],
   "source": [
    "# we need to vary length of examples for training so that LLM is more robust to the input length\n",
    "# we can do this by concatenating multiple examples together\n",
    "\n",
    "\n",
    "def concat_examples(examples):\n",
    "    return {\n",
    "        \"eid\": \"\\n\".join([example[\"eid\"] for example in examples]),\n",
    "        \"text\": \"\\n\".join([example[\"text\"] for example in examples]),\n",
    "        \"triples\": [triple for example in examples for triple in example[\"triples\"]],\n",
    "    }\n",
    "\n",
    "\n",
    "concat_erx_dsd = DatasetDict(\n",
    "    {\n",
    "        k: Dataset.from_list(\n",
    "            [{\"chunk\": chunk} for chunk in chunk_random_dataset(ds.shuffle(SEED), min_chunk=1, max_chunk=7)]\n",
    "        )\n",
    "        for k, ds in erx_dsd.items()\n",
    "    }\n",
    ").map(lambda x: concat_examples(x[\"chunk\"]), remove_columns=[\"chunk\"])\n",
    "concat_erx_dsd.push_to_hub(new_dataset_path + \"-concat\", config_name=dataset_name)"
   ]
  },
  {
   "cell_type": "code",
   "execution_count": 17,
   "metadata": {},
   "outputs": [
    {
     "data": {
      "text/plain": [
       "{'eid': 'Id62',\n",
       " 'text': 'Adonis Georgiadis is a member of the Greek New Democracy Party which uses the colour blue. Before being succeeded by Makis Voridis he served in office while Antonis Samaras was Prime Minister and Evangelos Venizelos was Deputy.',\n",
       " 'triples': ['Adonis Georgiadis | in office while prime minister | Antonis Samaras',\n",
       "  'Antonis Samaras | has deputy | Evangelos Venizelos',\n",
       "  'New Democracy (Greece) | colour | Blue',\n",
       "  'Adonis Georgiadis | party | New Democracy (Greece)',\n",
       "  'Adonis Georgiadis | successor | Makis Voridis']}"
      ]
     },
     "execution_count": 17,
     "metadata": {},
     "output_type": "execute_result"
    }
   ],
   "source": [
    "concat_erx_dsd['train'][0]"
   ]
  },
  {
   "cell_type": "code",
   "execution_count": 18,
   "metadata": {},
   "outputs": [],
   "source": [
    "df = concat_erx_dsd['train'].to_pandas()"
   ]
  },
  {
   "cell_type": "code",
   "execution_count": 21,
   "metadata": {},
   "outputs": [
    {
     "data": {
      "text/plain": [
       "<Axes: >"
      ]
     },
     "execution_count": 21,
     "metadata": {},
     "output_type": "execute_result"
    },
    {
     "data": {
      "image/png": "[encoded data removed]",
      "text/plain": [
       "<Figure size 640x480 with 1 Axes>"
      ]
     },
     "metadata": {},
     "output_type": "display_data"
    }
   ],
   "source": [
    "df['eid'].map(str.splitlines).map(len).hist()"
   ]
  },
  {
   "cell_type": "code",
   "execution_count": null,
   "metadata": {},
   "outputs": [],
   "source": []
  }
 ],
 "metadata": {
  "language_info": {
   "name": "python"
  }
 },
 "nbformat": 4,
 "nbformat_minor": 2
}
